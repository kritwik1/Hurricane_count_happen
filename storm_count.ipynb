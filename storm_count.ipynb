{
 "cells": [
  {
   "cell_type": "code",
   "execution_count": 3,
   "metadata": {},
   "outputs": [],
   "source": [
    "import geopandas as gpd"
   ]
  },
  {
   "cell_type": "code",
   "execution_count": 4,
   "metadata": {},
   "outputs": [],
   "source": [
    "import tensorflow as tf\n",
    "import numpy\n",
    "import matplotlib.pyplot as plt\n",
    "import pandas\n",
    "import math\n",
    "from tensorflow import keras\n",
    "from tensorflow.keras.models import Sequential\n",
    "from tensorflow.keras.layers import Dense\n",
    "from tensorflow.keras.layers import LSTM\n",
    "from tensorflow.keras.layers import Dropout\n",
    "from sklearn.preprocessing import MinMaxScaler\n",
    "from sklearn.metrics import mean_squared_error\n",
    "tf.config.experimental_run_functions_eagerly(True)\n",
    "from tensorflow.keras.callbacks import EarlyStopping\n",
    "from sklearn.metrics import mean_absolute_error\n",
    "from sklearn.metrics import mean_squared_error\n",
    "from sklearn.metrics import r2_score\n",
    "import pandas as pd\n",
    "import numpy as np\n",
    "import matplotlib.pyplot as plt\n",
    "\n",
    "from sklearn.model_selection import train_test_split\n",
    "import pandas as pd\n",
    "from tensorflow import keras "
   ]
  },
  {
   "cell_type": "markdown",
   "metadata": {},
   "source": [
    "Opening file::"
   ]
  },
  {
   "cell_type": "code",
   "execution_count": 5,
   "metadata": {},
   "outputs": [],
   "source": [
    "ciy=gpd.read_file(\"C:/Users/Ritwik/Downloads/IBTrACS.WP.list.v04r00.lines.shp\")"
   ]
  },
  {
   "cell_type": "markdown",
   "metadata": {},
   "source": [
    "printing first 10 data:::"
   ]
  },
  {
   "cell_type": "code",
   "execution_count": 6,
   "metadata": {},
   "outputs": [
    {
     "data": {
      "text/html": [
       "<div>\n",
       "<style scoped>\n",
       "    .dataframe tbody tr th:only-of-type {\n",
       "        vertical-align: middle;\n",
       "    }\n",
       "\n",
       "    .dataframe tbody tr th {\n",
       "        vertical-align: top;\n",
       "    }\n",
       "\n",
       "    .dataframe thead th {\n",
       "        text-align: right;\n",
       "    }\n",
       "</style>\n",
       "<table border=\"1\" class=\"dataframe\">\n",
       "  <thead>\n",
       "    <tr style=\"text-align: right;\">\n",
       "      <th></th>\n",
       "      <th>SID</th>\n",
       "      <th>SEASON</th>\n",
       "      <th>NUMBER</th>\n",
       "      <th>BASIN</th>\n",
       "      <th>SUBBASIN</th>\n",
       "      <th>NAME</th>\n",
       "      <th>ISO_TIME</th>\n",
       "      <th>NATURE</th>\n",
       "      <th>LAT</th>\n",
       "      <th>LON</th>\n",
       "      <th>...</th>\n",
       "      <th>USA_SEA_SW</th>\n",
       "      <th>USA_SEA_NW</th>\n",
       "      <th>STORM_SPD</th>\n",
       "      <th>STORM_DR</th>\n",
       "      <th>year</th>\n",
       "      <th>month</th>\n",
       "      <th>day</th>\n",
       "      <th>hour</th>\n",
       "      <th>min</th>\n",
       "      <th>geometry</th>\n",
       "    </tr>\n",
       "  </thead>\n",
       "  <tbody>\n",
       "    <tr>\n",
       "      <th>0</th>\n",
       "      <td>1884177N17124</td>\n",
       "      <td>1884</td>\n",
       "      <td>14</td>\n",
       "      <td>WP</td>\n",
       "      <td>MM</td>\n",
       "      <td>NOT_NAMED</td>\n",
       "      <td>1884-06-24 16:00:00</td>\n",
       "      <td>NR</td>\n",
       "      <td>16.50</td>\n",
       "      <td>124.0</td>\n",
       "      <td>...</td>\n",
       "      <td>NaN</td>\n",
       "      <td>NaN</td>\n",
       "      <td>6</td>\n",
       "      <td>281</td>\n",
       "      <td>1884</td>\n",
       "      <td>6</td>\n",
       "      <td>24</td>\n",
       "      <td>16</td>\n",
       "      <td>0</td>\n",
       "      <td>LINESTRING (124.00000 16.50000, 123.80005 16.5...</td>\n",
       "    </tr>\n",
       "    <tr>\n",
       "      <th>1</th>\n",
       "      <td>1884177N17124</td>\n",
       "      <td>1884</td>\n",
       "      <td>14</td>\n",
       "      <td>WP</td>\n",
       "      <td>MM</td>\n",
       "      <td>NOT_NAMED</td>\n",
       "      <td>1884-06-24 18:00:00</td>\n",
       "      <td>NR</td>\n",
       "      <td>16.54</td>\n",
       "      <td>123.8</td>\n",
       "      <td>...</td>\n",
       "      <td>NaN</td>\n",
       "      <td>NaN</td>\n",
       "      <td>6</td>\n",
       "      <td>282</td>\n",
       "      <td>1884</td>\n",
       "      <td>6</td>\n",
       "      <td>24</td>\n",
       "      <td>18</td>\n",
       "      <td>0</td>\n",
       "      <td>LINESTRING (123.80005 16.53729, 123.50000 16.5...</td>\n",
       "    </tr>\n",
       "    <tr>\n",
       "      <th>2</th>\n",
       "      <td>1884177N17124</td>\n",
       "      <td>1884</td>\n",
       "      <td>14</td>\n",
       "      <td>WP</td>\n",
       "      <td>MM</td>\n",
       "      <td>NOT_NAMED</td>\n",
       "      <td>1884-06-24 21:00:00</td>\n",
       "      <td>NR</td>\n",
       "      <td>16.60</td>\n",
       "      <td>123.5</td>\n",
       "      <td>...</td>\n",
       "      <td>NaN</td>\n",
       "      <td>NaN</td>\n",
       "      <td>6</td>\n",
       "      <td>283</td>\n",
       "      <td>1884</td>\n",
       "      <td>6</td>\n",
       "      <td>24</td>\n",
       "      <td>21</td>\n",
       "      <td>0</td>\n",
       "      <td>LINESTRING (123.50000 16.59782, 123.19995 16.6...</td>\n",
       "    </tr>\n",
       "    <tr>\n",
       "      <th>3</th>\n",
       "      <td>1884177N17124</td>\n",
       "      <td>1884</td>\n",
       "      <td>14</td>\n",
       "      <td>WP</td>\n",
       "      <td>MM</td>\n",
       "      <td>NOT_NAMED</td>\n",
       "      <td>1884-06-25 00:00:00</td>\n",
       "      <td>NR</td>\n",
       "      <td>16.67</td>\n",
       "      <td>123.2</td>\n",
       "      <td>...</td>\n",
       "      <td>NaN</td>\n",
       "      <td>NaN</td>\n",
       "      <td>6</td>\n",
       "      <td>286</td>\n",
       "      <td>1884</td>\n",
       "      <td>6</td>\n",
       "      <td>25</td>\n",
       "      <td>0</td>\n",
       "      <td>0</td>\n",
       "      <td>LINESTRING (123.19995 16.67063, 122.90002 16.7...</td>\n",
       "    </tr>\n",
       "    <tr>\n",
       "      <th>4</th>\n",
       "      <td>1884177N17124</td>\n",
       "      <td>1884</td>\n",
       "      <td>14</td>\n",
       "      <td>WP</td>\n",
       "      <td>MM</td>\n",
       "      <td>NOT_NAMED</td>\n",
       "      <td>1884-06-25 03:00:00</td>\n",
       "      <td>NR</td>\n",
       "      <td>16.76</td>\n",
       "      <td>122.9</td>\n",
       "      <td>...</td>\n",
       "      <td>NaN</td>\n",
       "      <td>NaN</td>\n",
       "      <td>6</td>\n",
       "      <td>289</td>\n",
       "      <td>1884</td>\n",
       "      <td>6</td>\n",
       "      <td>25</td>\n",
       "      <td>3</td>\n",
       "      <td>0</td>\n",
       "      <td>LINESTRING (122.90002 16.76335, 122.80005 16.8...</td>\n",
       "    </tr>\n",
       "    <tr>\n",
       "      <th>5</th>\n",
       "      <td>1884177N17124</td>\n",
       "      <td>1884</td>\n",
       "      <td>14</td>\n",
       "      <td>WP</td>\n",
       "      <td>MM</td>\n",
       "      <td>NOT_NAMED</td>\n",
       "      <td>1884-06-25 04:00:00</td>\n",
       "      <td>NR</td>\n",
       "      <td>16.80</td>\n",
       "      <td>122.8</td>\n",
       "      <td>...</td>\n",
       "      <td>NaN</td>\n",
       "      <td>NaN</td>\n",
       "      <td>6</td>\n",
       "      <td>293</td>\n",
       "      <td>1884</td>\n",
       "      <td>6</td>\n",
       "      <td>25</td>\n",
       "      <td>4</td>\n",
       "      <td>0</td>\n",
       "      <td>LINESTRING (122.80005 16.80000, 122.59998 16.8...</td>\n",
       "    </tr>\n",
       "    <tr>\n",
       "      <th>6</th>\n",
       "      <td>1884177N17124</td>\n",
       "      <td>1884</td>\n",
       "      <td>14</td>\n",
       "      <td>WP</td>\n",
       "      <td>MM</td>\n",
       "      <td>NOT_NAMED</td>\n",
       "      <td>1884-06-25 06:00:00</td>\n",
       "      <td>NR</td>\n",
       "      <td>16.88</td>\n",
       "      <td>122.6</td>\n",
       "      <td>...</td>\n",
       "      <td>NaN</td>\n",
       "      <td>NaN</td>\n",
       "      <td>6</td>\n",
       "      <td>295</td>\n",
       "      <td>1884</td>\n",
       "      <td>6</td>\n",
       "      <td>25</td>\n",
       "      <td>6</td>\n",
       "      <td>0</td>\n",
       "      <td>LINESTRING (122.59998 16.88277, 122.30005 17.0...</td>\n",
       "    </tr>\n",
       "    <tr>\n",
       "      <th>7</th>\n",
       "      <td>1884177N17124</td>\n",
       "      <td>1884</td>\n",
       "      <td>14</td>\n",
       "      <td>WP</td>\n",
       "      <td>MM</td>\n",
       "      <td>NOT_NAMED</td>\n",
       "      <td>1884-06-25 09:00:00</td>\n",
       "      <td>NR</td>\n",
       "      <td>17.03</td>\n",
       "      <td>122.3</td>\n",
       "      <td>...</td>\n",
       "      <td>NaN</td>\n",
       "      <td>NaN</td>\n",
       "      <td>6</td>\n",
       "      <td>298</td>\n",
       "      <td>1884</td>\n",
       "      <td>6</td>\n",
       "      <td>25</td>\n",
       "      <td>9</td>\n",
       "      <td>0</td>\n",
       "      <td>LINESTRING (122.30005 17.02593, 122.00000 17.1...</td>\n",
       "    </tr>\n",
       "    <tr>\n",
       "      <th>8</th>\n",
       "      <td>1884177N17124</td>\n",
       "      <td>1884</td>\n",
       "      <td>14</td>\n",
       "      <td>WP</td>\n",
       "      <td>MM</td>\n",
       "      <td>NOT_NAMED</td>\n",
       "      <td>1884-06-25 12:00:00</td>\n",
       "      <td>NR</td>\n",
       "      <td>17.18</td>\n",
       "      <td>122.0</td>\n",
       "      <td>...</td>\n",
       "      <td>NaN</td>\n",
       "      <td>NaN</td>\n",
       "      <td>7</td>\n",
       "      <td>299</td>\n",
       "      <td>1884</td>\n",
       "      <td>6</td>\n",
       "      <td>25</td>\n",
       "      <td>12</td>\n",
       "      <td>0</td>\n",
       "      <td>LINESTRING (122.00000 17.18355, 121.69995 17.3...</td>\n",
       "    </tr>\n",
       "    <tr>\n",
       "      <th>9</th>\n",
       "      <td>1884177N17124</td>\n",
       "      <td>1884</td>\n",
       "      <td>14</td>\n",
       "      <td>WP</td>\n",
       "      <td>MM</td>\n",
       "      <td>NOT_NAMED</td>\n",
       "      <td>1884-06-25 15:00:00</td>\n",
       "      <td>NR</td>\n",
       "      <td>17.35</td>\n",
       "      <td>121.7</td>\n",
       "      <td>...</td>\n",
       "      <td>NaN</td>\n",
       "      <td>NaN</td>\n",
       "      <td>7</td>\n",
       "      <td>300</td>\n",
       "      <td>1884</td>\n",
       "      <td>6</td>\n",
       "      <td>25</td>\n",
       "      <td>15</td>\n",
       "      <td>0</td>\n",
       "      <td>LINESTRING (121.69995 17.34625, 121.59998 17.4...</td>\n",
       "    </tr>\n",
       "  </tbody>\n",
       "</table>\n",
       "<p>10 rows × 169 columns</p>\n",
       "</div>"
      ],
      "text/plain": [
       "             SID  SEASON  NUMBER BASIN SUBBASIN       NAME  \\\n",
       "0  1884177N17124    1884      14    WP       MM  NOT_NAMED   \n",
       "1  1884177N17124    1884      14    WP       MM  NOT_NAMED   \n",
       "2  1884177N17124    1884      14    WP       MM  NOT_NAMED   \n",
       "3  1884177N17124    1884      14    WP       MM  NOT_NAMED   \n",
       "4  1884177N17124    1884      14    WP       MM  NOT_NAMED   \n",
       "5  1884177N17124    1884      14    WP       MM  NOT_NAMED   \n",
       "6  1884177N17124    1884      14    WP       MM  NOT_NAMED   \n",
       "7  1884177N17124    1884      14    WP       MM  NOT_NAMED   \n",
       "8  1884177N17124    1884      14    WP       MM  NOT_NAMED   \n",
       "9  1884177N17124    1884      14    WP       MM  NOT_NAMED   \n",
       "\n",
       "              ISO_TIME NATURE    LAT    LON  ...  USA_SEA_SW  USA_SEA_NW  \\\n",
       "0  1884-06-24 16:00:00     NR  16.50  124.0  ...         NaN         NaN   \n",
       "1  1884-06-24 18:00:00     NR  16.54  123.8  ...         NaN         NaN   \n",
       "2  1884-06-24 21:00:00     NR  16.60  123.5  ...         NaN         NaN   \n",
       "3  1884-06-25 00:00:00     NR  16.67  123.2  ...         NaN         NaN   \n",
       "4  1884-06-25 03:00:00     NR  16.76  122.9  ...         NaN         NaN   \n",
       "5  1884-06-25 04:00:00     NR  16.80  122.8  ...         NaN         NaN   \n",
       "6  1884-06-25 06:00:00     NR  16.88  122.6  ...         NaN         NaN   \n",
       "7  1884-06-25 09:00:00     NR  17.03  122.3  ...         NaN         NaN   \n",
       "8  1884-06-25 12:00:00     NR  17.18  122.0  ...         NaN         NaN   \n",
       "9  1884-06-25 15:00:00     NR  17.35  121.7  ...         NaN         NaN   \n",
       "\n",
       "  STORM_SPD STORM_DR  year  month day hour min  \\\n",
       "0         6      281  1884      6  24   16   0   \n",
       "1         6      282  1884      6  24   18   0   \n",
       "2         6      283  1884      6  24   21   0   \n",
       "3         6      286  1884      6  25    0   0   \n",
       "4         6      289  1884      6  25    3   0   \n",
       "5         6      293  1884      6  25    4   0   \n",
       "6         6      295  1884      6  25    6   0   \n",
       "7         6      298  1884      6  25    9   0   \n",
       "8         7      299  1884      6  25   12   0   \n",
       "9         7      300  1884      6  25   15   0   \n",
       "\n",
       "                                            geometry  \n",
       "0  LINESTRING (124.00000 16.50000, 123.80005 16.5...  \n",
       "1  LINESTRING (123.80005 16.53729, 123.50000 16.5...  \n",
       "2  LINESTRING (123.50000 16.59782, 123.19995 16.6...  \n",
       "3  LINESTRING (123.19995 16.67063, 122.90002 16.7...  \n",
       "4  LINESTRING (122.90002 16.76335, 122.80005 16.8...  \n",
       "5  LINESTRING (122.80005 16.80000, 122.59998 16.8...  \n",
       "6  LINESTRING (122.59998 16.88277, 122.30005 17.0...  \n",
       "7  LINESTRING (122.30005 17.02593, 122.00000 17.1...  \n",
       "8  LINESTRING (122.00000 17.18355, 121.69995 17.3...  \n",
       "9  LINESTRING (121.69995 17.34625, 121.59998 17.4...  \n",
       "\n",
       "[10 rows x 169 columns]"
      ]
     },
     "execution_count": 6,
     "metadata": {},
     "output_type": "execute_result"
    }
   ],
   "source": [
    "ciy.head(10)"
   ]
  },
  {
   "cell_type": "markdown",
   "metadata": {},
   "source": [
    "Printing shape of raw data"
   ]
  },
  {
   "cell_type": "code",
   "execution_count": 7,
   "metadata": {},
   "outputs": [
    {
     "data": {
      "text/plain": [
       "(232665, 169)"
      ]
     },
     "execution_count": 7,
     "metadata": {},
     "output_type": "execute_result"
    }
   ],
   "source": [
    "ciy.shape"
   ]
  },
  {
   "cell_type": "markdown",
   "metadata": {},
   "source": [
    "Taking first row of a data and dropping its succesive role"
   ]
  },
  {
   "cell_type": "code",
   "execution_count": 8,
   "metadata": {},
   "outputs": [],
   "source": [
    "df=ciy.drop_duplicates(subset=\"SID\", keep=\"first\")"
   ]
  },
  {
   "cell_type": "code",
   "execution_count": 9,
   "metadata": {},
   "outputs": [
    {
     "data": {
      "text/html": [
       "<div>\n",
       "<style scoped>\n",
       "    .dataframe tbody tr th:only-of-type {\n",
       "        vertical-align: middle;\n",
       "    }\n",
       "\n",
       "    .dataframe tbody tr th {\n",
       "        vertical-align: top;\n",
       "    }\n",
       "\n",
       "    .dataframe thead th {\n",
       "        text-align: right;\n",
       "    }\n",
       "</style>\n",
       "<table border=\"1\" class=\"dataframe\">\n",
       "  <thead>\n",
       "    <tr style=\"text-align: right;\">\n",
       "      <th></th>\n",
       "      <th>SID</th>\n",
       "      <th>SEASON</th>\n",
       "      <th>NUMBER</th>\n",
       "      <th>BASIN</th>\n",
       "      <th>SUBBASIN</th>\n",
       "      <th>NAME</th>\n",
       "      <th>ISO_TIME</th>\n",
       "      <th>NATURE</th>\n",
       "      <th>LAT</th>\n",
       "      <th>LON</th>\n",
       "      <th>...</th>\n",
       "      <th>USA_SEA_SW</th>\n",
       "      <th>USA_SEA_NW</th>\n",
       "      <th>STORM_SPD</th>\n",
       "      <th>STORM_DR</th>\n",
       "      <th>year</th>\n",
       "      <th>month</th>\n",
       "      <th>day</th>\n",
       "      <th>hour</th>\n",
       "      <th>min</th>\n",
       "      <th>geometry</th>\n",
       "    </tr>\n",
       "  </thead>\n",
       "  <tbody>\n",
       "    <tr>\n",
       "      <th>232435</th>\n",
       "      <td>2019324N15130</td>\n",
       "      <td>2019</td>\n",
       "      <td>54</td>\n",
       "      <td>WP</td>\n",
       "      <td>MM</td>\n",
       "      <td>FUNG-WONG</td>\n",
       "      <td>2019-11-19 12:00:00</td>\n",
       "      <td>NR</td>\n",
       "      <td>14.6</td>\n",
       "      <td>130.0</td>\n",
       "      <td>...</td>\n",
       "      <td>NaN</td>\n",
       "      <td>NaN</td>\n",
       "      <td>5</td>\n",
       "      <td>293</td>\n",
       "      <td>2019</td>\n",
       "      <td>11</td>\n",
       "      <td>19</td>\n",
       "      <td>12</td>\n",
       "      <td>0</td>\n",
       "      <td>LINESTRING (130.00000 14.60000, 129.75244 14.6...</td>\n",
       "    </tr>\n",
       "    <tr>\n",
       "      <th>232467</th>\n",
       "      <td>2019330N09151</td>\n",
       "      <td>2019</td>\n",
       "      <td>56</td>\n",
       "      <td>WP</td>\n",
       "      <td>MM</td>\n",
       "      <td>KAMMURI</td>\n",
       "      <td>2019-11-25 18:00:00</td>\n",
       "      <td>NR</td>\n",
       "      <td>9.2</td>\n",
       "      <td>151.0</td>\n",
       "      <td>...</td>\n",
       "      <td>NaN</td>\n",
       "      <td>NaN</td>\n",
       "      <td>18</td>\n",
       "      <td>305</td>\n",
       "      <td>2019</td>\n",
       "      <td>11</td>\n",
       "      <td>25</td>\n",
       "      <td>18</td>\n",
       "      <td>0</td>\n",
       "      <td>LINESTRING (151.00000 9.20000, 150.26843 9.70069)</td>\n",
       "    </tr>\n",
       "    <tr>\n",
       "      <th>232549</th>\n",
       "      <td>2019356N06140</td>\n",
       "      <td>2019</td>\n",
       "      <td>61</td>\n",
       "      <td>WP</td>\n",
       "      <td>MM</td>\n",
       "      <td>PHANFONE</td>\n",
       "      <td>2019-12-21 18:00:00</td>\n",
       "      <td>NR</td>\n",
       "      <td>6.1</td>\n",
       "      <td>139.7</td>\n",
       "      <td>...</td>\n",
       "      <td>NaN</td>\n",
       "      <td>NaN</td>\n",
       "      <td>8</td>\n",
       "      <td>305</td>\n",
       "      <td>2019</td>\n",
       "      <td>12</td>\n",
       "      <td>21</td>\n",
       "      <td>18</td>\n",
       "      <td>0</td>\n",
       "      <td>LINESTRING (139.69995 6.10000, 139.35999 6.33507)</td>\n",
       "    </tr>\n",
       "    <tr>\n",
       "      <th>232605</th>\n",
       "      <td>2020133N10129</td>\n",
       "      <td>2020</td>\n",
       "      <td>24</td>\n",
       "      <td>WP</td>\n",
       "      <td>MM</td>\n",
       "      <td>VONGFONG</td>\n",
       "      <td>2020-05-11 18:00:00</td>\n",
       "      <td>NR</td>\n",
       "      <td>9.6</td>\n",
       "      <td>128.8</td>\n",
       "      <td>...</td>\n",
       "      <td>NaN</td>\n",
       "      <td>NaN</td>\n",
       "      <td>5</td>\n",
       "      <td>350</td>\n",
       "      <td>2020</td>\n",
       "      <td>5</td>\n",
       "      <td>11</td>\n",
       "      <td>18</td>\n",
       "      <td>0</td>\n",
       "      <td>LINESTRING (128.80005 9.60000, 128.77014 9.82749)</td>\n",
       "    </tr>\n",
       "    <tr>\n",
       "      <th>232645</th>\n",
       "      <td>2020164N16120</td>\n",
       "      <td>2020</td>\n",
       "      <td>31</td>\n",
       "      <td>WP</td>\n",
       "      <td>MM</td>\n",
       "      <td>NURI</td>\n",
       "      <td>2020-06-12 00:00:00</td>\n",
       "      <td>NR</td>\n",
       "      <td>16.0</td>\n",
       "      <td>119.6</td>\n",
       "      <td>...</td>\n",
       "      <td>NaN</td>\n",
       "      <td>NaN</td>\n",
       "      <td>19</td>\n",
       "      <td>305</td>\n",
       "      <td>2020</td>\n",
       "      <td>6</td>\n",
       "      <td>12</td>\n",
       "      <td>0</td>\n",
       "      <td>0</td>\n",
       "      <td>LINESTRING (119.59998 16.00000, 118.80359 16.5...</td>\n",
       "    </tr>\n",
       "  </tbody>\n",
       "</table>\n",
       "<p>5 rows × 169 columns</p>\n",
       "</div>"
      ],
      "text/plain": [
       "                  SID  SEASON  NUMBER BASIN SUBBASIN       NAME  \\\n",
       "232435  2019324N15130    2019      54    WP       MM  FUNG-WONG   \n",
       "232467  2019330N09151    2019      56    WP       MM    KAMMURI   \n",
       "232549  2019356N06140    2019      61    WP       MM   PHANFONE   \n",
       "232605  2020133N10129    2020      24    WP       MM   VONGFONG   \n",
       "232645  2020164N16120    2020      31    WP       MM       NURI   \n",
       "\n",
       "                   ISO_TIME NATURE   LAT    LON  ...  USA_SEA_SW  USA_SEA_NW  \\\n",
       "232435  2019-11-19 12:00:00     NR  14.6  130.0  ...         NaN         NaN   \n",
       "232467  2019-11-25 18:00:00     NR   9.2  151.0  ...         NaN         NaN   \n",
       "232549  2019-12-21 18:00:00     NR   6.1  139.7  ...         NaN         NaN   \n",
       "232605  2020-05-11 18:00:00     NR   9.6  128.8  ...         NaN         NaN   \n",
       "232645  2020-06-12 00:00:00     NR  16.0  119.6  ...         NaN         NaN   \n",
       "\n",
       "       STORM_SPD STORM_DR  year  month day hour min  \\\n",
       "232435         5      293  2019     11  19   12   0   \n",
       "232467        18      305  2019     11  25   18   0   \n",
       "232549         8      305  2019     12  21   18   0   \n",
       "232605         5      350  2020      5  11   18   0   \n",
       "232645        19      305  2020      6  12    0   0   \n",
       "\n",
       "                                                 geometry  \n",
       "232435  LINESTRING (130.00000 14.60000, 129.75244 14.6...  \n",
       "232467  LINESTRING (151.00000 9.20000, 150.26843 9.70069)  \n",
       "232549  LINESTRING (139.69995 6.10000, 139.35999 6.33507)  \n",
       "232605  LINESTRING (128.80005 9.60000, 128.77014 9.82749)  \n",
       "232645  LINESTRING (119.59998 16.00000, 118.80359 16.5...  \n",
       "\n",
       "[5 rows x 169 columns]"
      ]
     },
     "execution_count": 9,
     "metadata": {},
     "output_type": "execute_result"
    }
   ],
   "source": [
    "df.tail()"
   ]
  },
  {
   "cell_type": "code",
   "execution_count": 10,
   "metadata": {},
   "outputs": [
    {
     "data": {
      "text/plain": [
       "(4175, 169)"
      ]
     },
     "execution_count": 10,
     "metadata": {},
     "output_type": "execute_result"
    }
   ],
   "source": [
    "df.shape"
   ]
  },
  {
   "cell_type": "markdown",
   "metadata": {},
   "source": [
    "Making the required dataset"
   ]
  },
  {
   "cell_type": "code",
   "execution_count": 11,
   "metadata": {},
   "outputs": [],
   "source": [
    "df1=df[['year','LON']]"
   ]
  },
  {
   "cell_type": "code",
   "execution_count": 12,
   "metadata": {},
   "outputs": [
    {
     "data": {
      "text/html": [
       "<div>\n",
       "<style scoped>\n",
       "    .dataframe tbody tr th:only-of-type {\n",
       "        vertical-align: middle;\n",
       "    }\n",
       "\n",
       "    .dataframe tbody tr th {\n",
       "        vertical-align: top;\n",
       "    }\n",
       "\n",
       "    .dataframe thead th {\n",
       "        text-align: right;\n",
       "    }\n",
       "</style>\n",
       "<table border=\"1\" class=\"dataframe\">\n",
       "  <thead>\n",
       "    <tr style=\"text-align: right;\">\n",
       "      <th></th>\n",
       "      <th>year</th>\n",
       "      <th>LON</th>\n",
       "    </tr>\n",
       "  </thead>\n",
       "  <tbody>\n",
       "    <tr>\n",
       "      <th>0</th>\n",
       "      <td>1884</td>\n",
       "      <td>124.0</td>\n",
       "    </tr>\n",
       "    <tr>\n",
       "      <th>55</th>\n",
       "      <td>1884</td>\n",
       "      <td>125.2</td>\n",
       "    </tr>\n",
       "    <tr>\n",
       "      <th>100</th>\n",
       "      <td>1884</td>\n",
       "      <td>126.7</td>\n",
       "    </tr>\n",
       "    <tr>\n",
       "      <th>145</th>\n",
       "      <td>1884</td>\n",
       "      <td>128.5</td>\n",
       "    </tr>\n",
       "    <tr>\n",
       "      <th>190</th>\n",
       "      <td>1884</td>\n",
       "      <td>126.6</td>\n",
       "    </tr>\n",
       "  </tbody>\n",
       "</table>\n",
       "</div>"
      ],
      "text/plain": [
       "     year    LON\n",
       "0    1884  124.0\n",
       "55   1884  125.2\n",
       "100  1884  126.7\n",
       "145  1884  128.5\n",
       "190  1884  126.6"
      ]
     },
     "execution_count": 12,
     "metadata": {},
     "output_type": "execute_result"
    }
   ],
   "source": [
    "df1.head()"
   ]
  },
  {
   "cell_type": "markdown",
   "metadata": {},
   "source": [
    "shape number of dataset and feature"
   ]
  },
  {
   "cell_type": "code",
   "execution_count": 13,
   "metadata": {},
   "outputs": [
    {
     "data": {
      "text/plain": [
       "(4175, 2)"
      ]
     },
     "execution_count": 13,
     "metadata": {},
     "output_type": "execute_result"
    }
   ],
   "source": [
    "df1.shape"
   ]
  },
  {
   "cell_type": "code",
   "execution_count": 14,
   "metadata": {},
   "outputs": [
    {
     "data": {
      "text/plain": [
       "Index(['year', 'LON'], dtype='object')"
      ]
     },
     "execution_count": 14,
     "metadata": {},
     "output_type": "execute_result"
    }
   ],
   "source": [
    "df1.columns"
   ]
  },
  {
   "cell_type": "code",
   "execution_count": 15,
   "metadata": {},
   "outputs": [],
   "source": [
    "s=df1['year'].value_counts()"
   ]
  },
  {
   "cell_type": "code",
   "execution_count": 16,
   "metadata": {},
   "outputs": [
    {
     "data": {
      "text/plain": [
       "pandas.core.series.Series"
      ]
     },
     "execution_count": 16,
     "metadata": {},
     "output_type": "execute_result"
    }
   ],
   "source": [
    "type(s)"
   ]
  },
  {
   "cell_type": "markdown",
   "metadata": {},
   "source": [
    "changing series to dataframe"
   ]
  },
  {
   "cell_type": "code",
   "execution_count": 17,
   "metadata": {},
   "outputs": [
    {
     "data": {
      "text/html": [
       "<div>\n",
       "<style scoped>\n",
       "    .dataframe tbody tr th:only-of-type {\n",
       "        vertical-align: middle;\n",
       "    }\n",
       "\n",
       "    .dataframe tbody tr th {\n",
       "        vertical-align: top;\n",
       "    }\n",
       "\n",
       "    .dataframe thead th {\n",
       "        text-align: right;\n",
       "    }\n",
       "</style>\n",
       "<table border=\"1\" class=\"dataframe\">\n",
       "  <thead>\n",
       "    <tr style=\"text-align: right;\">\n",
       "      <th></th>\n",
       "      <th>year</th>\n",
       "      <th>count</th>\n",
       "    </tr>\n",
       "  </thead>\n",
       "  <tbody>\n",
       "    <tr>\n",
       "      <th>0</th>\n",
       "      <td>1971</td>\n",
       "      <td>64</td>\n",
       "    </tr>\n",
       "    <tr>\n",
       "      <th>1</th>\n",
       "      <td>1967</td>\n",
       "      <td>55</td>\n",
       "    </tr>\n",
       "    <tr>\n",
       "      <th>2</th>\n",
       "      <td>1961</td>\n",
       "      <td>54</td>\n",
       "    </tr>\n",
       "    <tr>\n",
       "      <th>3</th>\n",
       "      <td>1970</td>\n",
       "      <td>53</td>\n",
       "    </tr>\n",
       "    <tr>\n",
       "      <th>4</th>\n",
       "      <td>1965</td>\n",
       "      <td>53</td>\n",
       "    </tr>\n",
       "    <tr>\n",
       "      <th>...</th>\n",
       "      <td>...</td>\n",
       "      <td>...</td>\n",
       "    </tr>\n",
       "    <tr>\n",
       "      <th>132</th>\n",
       "      <td>1889</td>\n",
       "      <td>12</td>\n",
       "    </tr>\n",
       "    <tr>\n",
       "      <th>133</th>\n",
       "      <td>1901</td>\n",
       "      <td>12</td>\n",
       "    </tr>\n",
       "    <tr>\n",
       "      <th>134</th>\n",
       "      <td>1888</td>\n",
       "      <td>12</td>\n",
       "    </tr>\n",
       "    <tr>\n",
       "      <th>135</th>\n",
       "      <td>1885</td>\n",
       "      <td>9</td>\n",
       "    </tr>\n",
       "    <tr>\n",
       "      <th>136</th>\n",
       "      <td>2020</td>\n",
       "      <td>2</td>\n",
       "    </tr>\n",
       "  </tbody>\n",
       "</table>\n",
       "<p>137 rows × 2 columns</p>\n",
       "</div>"
      ],
      "text/plain": [
       "     year  count\n",
       "0    1971     64\n",
       "1    1967     55\n",
       "2    1961     54\n",
       "3    1970     53\n",
       "4    1965     53\n",
       "..    ...    ...\n",
       "132  1889     12\n",
       "133  1901     12\n",
       "134  1888     12\n",
       "135  1885      9\n",
       "136  2020      2\n",
       "\n",
       "[137 rows x 2 columns]"
      ]
     },
     "execution_count": 17,
     "metadata": {},
     "output_type": "execute_result"
    }
   ],
   "source": [
    "import pandas as pd\n",
    "df2 = pd.DataFrame({'year':s.index, 'count':s.values})\n",
    "df2"
   ]
  },
  {
   "cell_type": "code",
   "execution_count": 18,
   "metadata": {},
   "outputs": [],
   "source": [
    "#df2=df2.drop(df2.index[[136]])"
   ]
  },
  {
   "cell_type": "code",
   "execution_count": 19,
   "metadata": {},
   "outputs": [
    {
     "data": {
      "text/plain": [
       "0      64\n",
       "1      55\n",
       "2      54\n",
       "3      53\n",
       "4      53\n",
       "       ..\n",
       "132    12\n",
       "133    12\n",
       "134    12\n",
       "135     9\n",
       "136     2\n",
       "Name: count, Length: 137, dtype: int64"
      ]
     },
     "execution_count": 19,
     "metadata": {},
     "output_type": "execute_result"
    }
   ],
   "source": [
    "co=df2['count']\n",
    "co"
   ]
  },
  {
   "cell_type": "code",
   "execution_count": 20,
   "metadata": {},
   "outputs": [],
   "source": [
    "# Import the acf module and the plot_acf module from statsmodels\n"
   ]
  },
  {
   "cell_type": "markdown",
   "metadata": {},
   "source": [
    "Sorting data year wise"
   ]
  },
  {
   "cell_type": "code",
   "execution_count": 21,
   "metadata": {},
   "outputs": [],
   "source": [
    "df2=df2.sort_values(by='year')"
   ]
  },
  {
   "cell_type": "code",
   "execution_count": 22,
   "metadata": {},
   "outputs": [],
   "source": [
    "df2=df2.reset_index()\n",
    "\n"
   ]
  },
  {
   "cell_type": "code",
   "execution_count": 23,
   "metadata": {},
   "outputs": [],
   "source": [
    "df2.drop(['index'], axis=1, inplace=True)"
   ]
  },
  {
   "cell_type": "code",
   "execution_count": null,
   "metadata": {},
   "outputs": [],
   "source": []
  },
  {
   "cell_type": "code",
   "execution_count": 24,
   "metadata": {},
   "outputs": [
    {
     "data": {
      "text/html": [
       "<div>\n",
       "<style scoped>\n",
       "    .dataframe tbody tr th:only-of-type {\n",
       "        vertical-align: middle;\n",
       "    }\n",
       "\n",
       "    .dataframe tbody tr th {\n",
       "        vertical-align: top;\n",
       "    }\n",
       "\n",
       "    .dataframe thead th {\n",
       "        text-align: right;\n",
       "    }\n",
       "</style>\n",
       "<table border=\"1\" class=\"dataframe\">\n",
       "  <thead>\n",
       "    <tr style=\"text-align: right;\">\n",
       "      <th></th>\n",
       "      <th>year</th>\n",
       "      <th>count</th>\n",
       "    </tr>\n",
       "  </thead>\n",
       "  <tbody>\n",
       "    <tr>\n",
       "      <th>0</th>\n",
       "      <td>1884</td>\n",
       "      <td>14</td>\n",
       "    </tr>\n",
       "    <tr>\n",
       "      <th>1</th>\n",
       "      <td>1885</td>\n",
       "      <td>9</td>\n",
       "    </tr>\n",
       "    <tr>\n",
       "      <th>2</th>\n",
       "      <td>1886</td>\n",
       "      <td>15</td>\n",
       "    </tr>\n",
       "    <tr>\n",
       "      <th>3</th>\n",
       "      <td>1887</td>\n",
       "      <td>21</td>\n",
       "    </tr>\n",
       "    <tr>\n",
       "      <th>4</th>\n",
       "      <td>1888</td>\n",
       "      <td>12</td>\n",
       "    </tr>\n",
       "  </tbody>\n",
       "</table>\n",
       "</div>"
      ],
      "text/plain": [
       "   year  count\n",
       "0  1884     14\n",
       "1  1885      9\n",
       "2  1886     15\n",
       "3  1887     21\n",
       "4  1888     12"
      ]
     },
     "execution_count": 24,
     "metadata": {},
     "output_type": "execute_result"
    }
   ],
   "source": [
    "df2.head()"
   ]
  },
  {
   "cell_type": "code",
   "execution_count": 25,
   "metadata": {},
   "outputs": [],
   "source": [
    "df2['count'][136] = 28"
   ]
  },
  {
   "cell_type": "code",
   "execution_count": 26,
   "metadata": {},
   "outputs": [
    {
     "data": {
      "text/html": [
       "<div>\n",
       "<style scoped>\n",
       "    .dataframe tbody tr th:only-of-type {\n",
       "        vertical-align: middle;\n",
       "    }\n",
       "\n",
       "    .dataframe tbody tr th {\n",
       "        vertical-align: top;\n",
       "    }\n",
       "\n",
       "    .dataframe thead th {\n",
       "        text-align: right;\n",
       "    }\n",
       "</style>\n",
       "<table border=\"1\" class=\"dataframe\">\n",
       "  <thead>\n",
       "    <tr style=\"text-align: right;\">\n",
       "      <th></th>\n",
       "      <th>year</th>\n",
       "      <th>count</th>\n",
       "    </tr>\n",
       "  </thead>\n",
       "  <tbody>\n",
       "    <tr>\n",
       "      <th>87</th>\n",
       "      <td>1971</td>\n",
       "      <td>64</td>\n",
       "    </tr>\n",
       "  </tbody>\n",
       "</table>\n",
       "</div>"
      ],
      "text/plain": [
       "    year  count\n",
       "87  1971     64"
      ]
     },
     "execution_count": 26,
     "metadata": {},
     "output_type": "execute_result"
    }
   ],
   "source": [
    "df2.loc[df2.year == 1971]"
   ]
  },
  {
   "cell_type": "markdown",
   "metadata": {},
   "source": [
    "plot of dataset made"
   ]
  },
  {
   "cell_type": "code",
   "execution_count": 27,
   "metadata": {},
   "outputs": [
    {
     "data": {
      "text/plain": [
       "<matplotlib.axes._subplots.AxesSubplot at 0x1ca4297b488>"
      ]
     },
     "execution_count": 27,
     "metadata": {},
     "output_type": "execute_result"
    },
    {
     "data": {
      "image/png": "[encoded data removed]",
      "text/plain": [
       "<Figure size 432x288 with 1 Axes>"
      ]
     },
     "metadata": {
      "needs_background": "light"
     },
     "output_type": "display_data"
    }
   ],
   "source": [
    "df2.plot(x='year',y='count')"
   ]
  },
  {
   "cell_type": "code",
   "execution_count": 28,
   "metadata": {},
   "outputs": [],
   "source": [
    "df3=df2.reset_index()['count']"
   ]
  },
  {
   "cell_type": "code",
   "execution_count": 29,
   "metadata": {},
   "outputs": [
    {
     "data": {
      "text/plain": [
       "0      14\n",
       "1       9\n",
       "2      15\n",
       "3      21\n",
       "4      12\n",
       "       ..\n",
       "132    32\n",
       "133    35\n",
       "134    36\n",
       "135    30\n",
       "136    28\n",
       "Name: count, Length: 137, dtype: int64"
      ]
     },
     "execution_count": 29,
     "metadata": {},
     "output_type": "execute_result"
    }
   ],
   "source": [
    "df3"
   ]
  },
  {
   "cell_type": "code",
   "execution_count": 30,
   "metadata": {},
   "outputs": [],
   "source": [
    "import numpy as np"
   ]
  },
  {
   "cell_type": "markdown",
   "metadata": {},
   "source": [
    "transforming the dataset between 0 and 1 for better processing"
   ]
  },
  {
   "cell_type": "code",
   "execution_count": 31,
   "metadata": {},
   "outputs": [],
   "source": [
    "from sklearn.preprocessing import MinMaxScaler\n",
    "scaler=MinMaxScaler(feature_range=(0,1))\n",
    "df3=scaler.fit_transform(np.array(df3).reshape(-1,1))"
   ]
  },
  {
   "cell_type": "code",
   "execution_count": 32,
   "metadata": {},
   "outputs": [
    {
     "name": "stdout",
     "output_type": "stream",
     "text": [
      "[[0.09090909]\n",
      " [0.        ]\n",
      " [0.10909091]\n",
      " [0.21818182]\n",
      " [0.05454545]\n",
      " [0.05454545]\n",
      " [0.09090909]\n",
      " [0.16363636]\n",
      " [0.2       ]\n",
      " [0.2       ]\n",
      " [0.09090909]\n",
      " [0.12727273]\n",
      " [0.16363636]\n",
      " [0.07272727]\n",
      " [0.18181818]\n",
      " [0.18181818]\n",
      " [0.16363636]\n",
      " [0.05454545]\n",
      " [0.14545455]\n",
      " [0.12727273]\n",
      " [0.16363636]\n",
      " [0.23636364]\n",
      " [0.2       ]\n",
      " [0.27272727]\n",
      " [0.16363636]\n",
      " [0.25454545]\n",
      " [0.32727273]\n",
      " [0.32727273]\n",
      " [0.36363636]\n",
      " [0.2       ]\n",
      " [0.27272727]\n",
      " [0.32727273]\n",
      " [0.21818182]\n",
      " [0.10909091]\n",
      " [0.23636364]\n",
      " [0.30909091]\n",
      " [0.21818182]\n",
      " [0.25454545]\n",
      " [0.25454545]\n",
      " [0.30909091]\n",
      " [0.29090909]\n",
      " [0.23636364]\n",
      " [0.18181818]\n",
      " [0.23636364]\n",
      " [0.23636364]\n",
      " [0.23636364]\n",
      " [0.29090909]\n",
      " [0.21818182]\n",
      " [0.32727273]\n",
      " [0.36363636]\n",
      " [0.36363636]\n",
      " [0.27272727]\n",
      " [0.27272727]\n",
      " [0.23636364]\n",
      " [0.4       ]\n",
      " [0.54545455]\n",
      " [0.52727273]\n",
      " [0.34545455]\n",
      " [0.38181818]\n",
      " [0.45454545]\n",
      " [0.23636364]\n",
      " [0.45454545]\n",
      " [0.25454545]\n",
      " [0.6       ]\n",
      " [0.41818182]\n",
      " [0.54545455]\n",
      " [0.70909091]\n",
      " [0.45454545]\n",
      " [0.58181818]\n",
      " [0.49090909]\n",
      " [0.45454545]\n",
      " [0.54545455]\n",
      " [0.58181818]\n",
      " [0.36363636]\n",
      " [0.6       ]\n",
      " [0.45454545]\n",
      " [0.67272727]\n",
      " [0.81818182]\n",
      " [0.63636364]\n",
      " [0.54545455]\n",
      " [0.72727273]\n",
      " [0.8       ]\n",
      " [0.69090909]\n",
      " [0.83636364]\n",
      " [0.63636364]\n",
      " [0.43636364]\n",
      " [0.8       ]\n",
      " [1.        ]\n",
      " [0.67272727]\n",
      " [0.4       ]\n",
      " [0.63636364]\n",
      " [0.47272727]\n",
      " [0.58181818]\n",
      " [0.54545455]\n",
      " [0.72727273]\n",
      " [0.56363636]\n",
      " [0.45454545]\n",
      " [0.49090909]\n",
      " [0.4       ]\n",
      " [0.38181818]\n",
      " [0.54545455]\n",
      " [0.56363636]\n",
      " [0.58181818]\n",
      " [0.38181818]\n",
      " [0.6       ]\n",
      " [0.67272727]\n",
      " [0.54545455]\n",
      " [0.52727273]\n",
      " [0.65454545]\n",
      " [0.56363636]\n",
      " [0.67272727]\n",
      " [0.50909091]\n",
      " [0.74545455]\n",
      " [0.50909091]\n",
      " [0.36363636]\n",
      " [0.52727273]\n",
      " [0.50909091]\n",
      " [0.47272727]\n",
      " [0.49090909]\n",
      " [0.38181818]\n",
      " [0.47272727]\n",
      " [0.30909091]\n",
      " [0.34545455]\n",
      " [0.34545455]\n",
      " [0.38181818]\n",
      " [0.41818182]\n",
      " [0.23636364]\n",
      " [0.34545455]\n",
      " [0.32727273]\n",
      " [0.52727273]\n",
      " [0.30909091]\n",
      " [0.41818182]\n",
      " [0.41818182]\n",
      " [0.47272727]\n",
      " [0.49090909]\n",
      " [0.38181818]\n",
      " [0.34545455]]\n"
     ]
    }
   ],
   "source": [
    "print(df3)"
   ]
  },
  {
   "cell_type": "code",
   "execution_count": 33,
   "metadata": {},
   "outputs": [],
   "source": [
    "##splitting dataset into train and test split\n",
    "training_size=int(len(df3)*0.75)\n",
    "test_size=len(df3)-training_size\n",
    "train_data,test_data=df3[0:training_size,:],df3[training_size:len(df3),:1]"
   ]
  },
  {
   "cell_type": "code",
   "execution_count": 34,
   "metadata": {},
   "outputs": [
    {
     "data": {
      "text/plain": [
       "102"
      ]
     },
     "execution_count": 34,
     "metadata": {},
     "output_type": "execute_result"
    }
   ],
   "source": [
    "training_size"
   ]
  },
  {
   "cell_type": "code",
   "execution_count": 35,
   "metadata": {},
   "outputs": [
    {
     "data": {
      "text/plain": [
       "35"
      ]
     },
     "execution_count": 35,
     "metadata": {},
     "output_type": "execute_result"
    }
   ],
   "source": [
    "test_size"
   ]
  },
  {
   "cell_type": "code",
   "execution_count": 36,
   "metadata": {},
   "outputs": [],
   "source": [
    "import numpy\n",
    "# convert an array of values into a dataset matrix\n",
    "def create_dataset(dataset, time_step=1):\n",
    "\tdataX, dataY = [], []\n",
    "\tfor i in range(len(dataset)-time_step-1):\n",
    "\t\ta = dataset[i:(i+time_step), 0]   ###i=0, 0,1,2,3-----99   100 \n",
    "\t\tdataX.append(a)\n",
    "\t\tdataY.append(dataset[i + time_step, 0])\n",
    "\treturn numpy.array(dataX), numpy.array(dataY)"
   ]
  },
  {
   "cell_type": "code",
   "execution_count": 37,
   "metadata": {},
   "outputs": [],
   "source": [
    "# reshape into X=t,t+1,t+2,t+3 and Y=t+4\n",
    "time_step = 4\n",
    "X_train, y_train = create_dataset(train_data, time_step)\n",
    "X_test, ytest = create_dataset(test_data, time_step)"
   ]
  },
  {
   "cell_type": "code",
   "execution_count": 38,
   "metadata": {},
   "outputs": [
    {
     "name": "stdout",
     "output_type": "stream",
     "text": [
      "(97, 4)\n",
      "(97,)\n"
     ]
    },
    {
     "data": {
      "text/plain": [
       "(None, None)"
      ]
     },
     "execution_count": 38,
     "metadata": {},
     "output_type": "execute_result"
    }
   ],
   "source": [
    "print(X_train.shape), print(y_train.shape)"
   ]
  },
  {
   "cell_type": "code",
   "execution_count": 39,
   "metadata": {},
   "outputs": [
    {
     "name": "stdout",
     "output_type": "stream",
     "text": [
      "(30, 4)\n",
      "(30,)\n"
     ]
    },
    {
     "data": {
      "text/plain": [
       "(None, None)"
      ]
     },
     "execution_count": 39,
     "metadata": {},
     "output_type": "execute_result"
    }
   ],
   "source": [
    "print(X_test.shape), print(ytest.shape)"
   ]
  },
  {
   "cell_type": "code",
   "execution_count": 40,
   "metadata": {},
   "outputs": [],
   "source": [
    "# reshape input to be [samples, time steps, features] which is required for LSTM\n",
    "X_train =X_train.reshape(X_train.shape[0],X_train.shape[1] , 1)\n",
    "X_test = X_test.reshape(X_test.shape[0],X_test.shape[1] , 1)"
   ]
  },
  {
   "cell_type": "code",
   "execution_count": null,
   "metadata": {},
   "outputs": [],
   "source": []
  },
  {
   "cell_type": "code",
   "execution_count": 41,
   "metadata": {},
   "outputs": [],
   "source": [
    "import tensorflow as tf\n",
    "### Create the Stacked LSTM model\n",
    "from tensorflow.keras.models import Sequential\n",
    "from tensorflow.keras.layers import Dense\n",
    "from tensorflow.keras.layers import LSTM"
   ]
  },
  {
   "cell_type": "code",
   "execution_count": 42,
   "metadata": {},
   "outputs": [
    {
     "data": {
      "text/plain": [
       "(97, 4, 1)"
      ]
     },
     "execution_count": 42,
     "metadata": {},
     "output_type": "execute_result"
    }
   ],
   "source": [
    "X_train.shape"
   ]
  },
  {
   "cell_type": "code",
   "execution_count": 43,
   "metadata": {},
   "outputs": [],
   "source": [
    "import tensorflow as tf\n",
    "simple_lstm_model = tf.keras.models.Sequential([\n",
    "    tf.keras.layers.LSTM(8, input_shape=X_train.shape[-2:]),\n",
    "    tf.keras.layers.Dropout(0.02),\n",
    "    tf.keras.layers.Dense(1)\n",
    "])\n",
    "\n",
    "simple_lstm_model.compile(optimizer='adam', loss='mean_squared_error',metrics=['mae'])\n"
   ]
  },
  {
   "cell_type": "code",
   "execution_count": 44,
   "metadata": {},
   "outputs": [
    {
     "name": "stdout",
     "output_type": "stream",
     "text": [
      "Model: \"sequential\"\n",
      "_________________________________________________________________\n",
      "Layer (type)                 Output Shape              Param #   \n",
      "=================================================================\n",
      "lstm (LSTM)                  (None, 8)                 320       \n",
      "_________________________________________________________________\n",
      "dropout (Dropout)            (None, 8)                 0         \n",
      "_________________________________________________________________\n",
      "dense (Dense)                (None, 1)                 9         \n",
      "=================================================================\n",
      "Total params: 329\n",
      "Trainable params: 329\n",
      "Non-trainable params: 0\n",
      "_________________________________________________________________\n"
     ]
    }
   ],
   "source": [
    "simple_lstm_model.summary()"
   ]
  },
  {
   "cell_type": "code",
   "execution_count": null,
   "metadata": {},
   "outputs": [],
   "source": []
  },
  {
   "cell_type": "code",
   "execution_count": 45,
   "metadata": {},
   "outputs": [
    {
     "name": "stdout",
     "output_type": "stream",
     "text": [
      "Train on 97 samples\n",
      "Epoch 1/120\n",
      "97/97 [==============================] - 16s 169ms/sample - loss: 0.2517 - mae: 0.4424\n",
      "Epoch 2/120\n",
      "97/97 [==============================] - 0s 3ms/sample - loss: 0.2364 - mae: 0.4262\n",
      "Epoch 3/120\n",
      "97/97 [==============================] - 0s 3ms/sample - loss: 0.2236 - mae: 0.4120\n",
      "Epoch 4/120\n",
      "97/97 [==============================] - 0s 2ms/sample - loss: 0.2094 - mae: 0.3956\n",
      "Epoch 5/120\n",
      "97/97 [==============================] - 0s 3ms/sample - loss: 0.1963 - mae: 0.3807\n",
      "Epoch 6/120\n",
      "97/97 [==============================] - 0s 2ms/sample - loss: 0.1831 - mae: 0.3642\n",
      "Epoch 7/120\n",
      "97/97 [==============================] - 0s 1ms/sample - loss: 0.1690 - mae: 0.3476\n",
      "Epoch 8/120\n",
      "97/97 [==============================] - 0s 1ms/sample - loss: 0.1601 - mae: 0.3348\n",
      "Epoch 9/120\n",
      "97/97 [==============================] - 0s 1ms/sample - loss: 0.1483 - mae: 0.3197\n",
      "Epoch 10/120\n",
      "97/97 [==============================] - 1s 8ms/sample - loss: 0.1364 - mae: 0.3047\n",
      "Epoch 11/120\n",
      "97/97 [==============================] - 0s 3ms/sample - loss: 0.1277 - mae: 0.2911\n",
      "Epoch 12/120\n",
      "97/97 [==============================] - 0s 2ms/sample - loss: 0.1187 - mae: 0.2781\n",
      "Epoch 13/120\n",
      "97/97 [==============================] - 0s 1ms/sample - loss: 0.1087 - mae: 0.2640\n",
      "Epoch 14/120\n",
      "97/97 [==============================] - 0s 1ms/sample - loss: 0.1005 - mae: 0.2506\n",
      "Epoch 15/120\n",
      "97/97 [==============================] - 0s 1ms/sample - loss: 0.0909 - mae: 0.2355\n",
      "Epoch 16/120\n",
      "97/97 [==============================] - 0s 1ms/sample - loss: 0.0827 - mae: 0.2215\n",
      "Epoch 17/120\n",
      "97/97 [==============================] - 0s 1ms/sample - loss: 0.0751 - mae: 0.2088\n",
      "Epoch 18/120\n",
      "97/97 [==============================] - 0s 1ms/sample - loss: 0.0684 - mae: 0.1974\n",
      "Epoch 19/120\n",
      "97/97 [==============================] - 0s 1ms/sample - loss: 0.0625 - mae: 0.1855\n",
      "Epoch 20/120\n",
      "97/97 [==============================] - 0s 1ms/sample - loss: 0.0566 - mae: 0.1761\n",
      "Epoch 21/120\n",
      "97/97 [==============================] - 0s 1ms/sample - loss: 0.0526 - mae: 0.1688\n",
      "Epoch 22/120\n",
      "97/97 [==============================] - 0s 1ms/sample - loss: 0.0453 - mae: 0.1581\n",
      "Epoch 23/120\n",
      "97/97 [==============================] - 0s 1ms/sample - loss: 0.0416 - mae: 0.1529\n",
      "Epoch 24/120\n",
      "97/97 [==============================] - 0s 1ms/sample - loss: 0.0373 - mae: 0.1468\n",
      "Epoch 25/120\n",
      "97/97 [==============================] - 0s 1ms/sample - loss: 0.0357 - mae: 0.1426\n",
      "Epoch 26/120\n",
      "97/97 [==============================] - 0s 1ms/sample - loss: 0.0329 - mae: 0.1391\n",
      "Epoch 27/120\n",
      "97/97 [==============================] - 0s 1ms/sample - loss: 0.0309 - mae: 0.1373\n",
      "Epoch 28/120\n",
      "97/97 [==============================] - 0s 1ms/sample - loss: 0.0295 - mae: 0.1360\n",
      "Epoch 29/120\n",
      "97/97 [==============================] - 0s 1ms/sample - loss: 0.0288 - mae: 0.1339\n",
      "Epoch 30/120\n",
      "97/97 [==============================] - 0s 2ms/sample - loss: 0.0277 - mae: 0.1333\n",
      "Epoch 31/120\n",
      "97/97 [==============================] - 0s 2ms/sample - loss: 0.0305 - mae: 0.1378\n",
      "Epoch 32/120\n",
      "97/97 [==============================] - 0s 1ms/sample - loss: 0.0271 - mae: 0.1329\n",
      "Epoch 33/120\n",
      "97/97 [==============================] - 0s 1ms/sample - loss: 0.0275 - mae: 0.1333\n",
      "Epoch 34/120\n",
      "97/97 [==============================] - 0s 1ms/sample - loss: 0.0266 - mae: 0.1316\n",
      "Epoch 35/120\n",
      "97/97 [==============================] - 0s 1ms/sample - loss: 0.0258 - mae: 0.1319\n",
      "Epoch 36/120\n",
      "97/97 [==============================] - 0s 1ms/sample - loss: 0.0255 - mae: 0.1319\n",
      "Epoch 37/120\n",
      "97/97 [==============================] - 0s 1ms/sample - loss: 0.0245 - mae: 0.1272\n",
      "Epoch 38/120\n",
      "97/97 [==============================] - 0s 1ms/sample - loss: 0.0257 - mae: 0.1288\n",
      "Epoch 39/120\n",
      "97/97 [==============================] - 0s 1ms/sample - loss: 0.0248 - mae: 0.1282\n",
      "Epoch 40/120\n",
      "97/97 [==============================] - 0s 1ms/sample - loss: 0.0268 - mae: 0.1318\n",
      "Epoch 41/120\n",
      "97/97 [==============================] - 0s 1ms/sample - loss: 0.0259 - mae: 0.1289\n",
      "Epoch 42/120\n",
      "97/97 [==============================] - 0s 1ms/sample - loss: 0.0257 - mae: 0.1274\n",
      "Epoch 43/120\n",
      "97/97 [==============================] - 0s 1ms/sample - loss: 0.0251 - mae: 0.1252\n",
      "Epoch 44/120\n",
      "97/97 [==============================] - 0s 1ms/sample - loss: 0.0239 - mae: 0.1241\n",
      "Epoch 45/120\n",
      "97/97 [==============================] - 0s 1ms/sample - loss: 0.0237 - mae: 0.1222\n",
      "Epoch 46/120\n",
      "97/97 [==============================] - 0s 1ms/sample - loss: 0.0240 - mae: 0.1238\n",
      "Epoch 47/120\n",
      "97/97 [==============================] - 0s 1ms/sample - loss: 0.0255 - mae: 0.1271\n",
      "Epoch 48/120\n",
      "97/97 [==============================] - 0s 1ms/sample - loss: 0.0229 - mae: 0.1217\n",
      "Epoch 49/120\n",
      "97/97 [==============================] - 0s 1ms/sample - loss: 0.0231 - mae: 0.1231\n",
      "Epoch 50/120\n",
      "97/97 [==============================] - 0s 1ms/sample - loss: 0.0222 - mae: 0.1202\n",
      "Epoch 51/120\n",
      "97/97 [==============================] - 0s 1ms/sample - loss: 0.0220 - mae: 0.1191\n",
      "Epoch 52/120\n",
      "97/97 [==============================] - 0s 1ms/sample - loss: 0.0213 - mae: 0.1168\n",
      "Epoch 53/120\n",
      "97/97 [==============================] - 0s 1ms/sample - loss: 0.0218 - mae: 0.1185\n",
      "Epoch 54/120\n",
      "97/97 [==============================] - 0s 1ms/sample - loss: 0.0206 - mae: 0.1153\n",
      "Epoch 55/120\n",
      "97/97 [==============================] - 0s 1ms/sample - loss: 0.0215 - mae: 0.1190\n",
      "Epoch 56/120\n",
      "97/97 [==============================] - 0s 1ms/sample - loss: 0.0206 - mae: 0.1182\n",
      "Epoch 57/120\n",
      "97/97 [==============================] - 0s 1ms/sample - loss: 0.0224 - mae: 0.1265\n",
      "Epoch 58/120\n",
      "97/97 [==============================] - 0s 1ms/sample - loss: 0.0214 - mae: 0.1200\n",
      "Epoch 59/120\n",
      "97/97 [==============================] - 0s 1ms/sample - loss: 0.0209 - mae: 0.1217\n",
      "Epoch 60/120\n",
      "97/97 [==============================] - 0s 1ms/sample - loss: 0.0211 - mae: 0.1219\n",
      "Epoch 61/120\n",
      "97/97 [==============================] - 0s 1ms/sample - loss: 0.0203 - mae: 0.1198\n",
      "Epoch 62/120\n",
      "97/97 [==============================] - 0s 1ms/sample - loss: 0.0230 - mae: 0.1231\n",
      "Epoch 63/120\n",
      "97/97 [==============================] - 0s 1ms/sample - loss: 0.0201 - mae: 0.1188\n",
      "Epoch 64/120\n",
      "97/97 [==============================] - 0s 1ms/sample - loss: 0.0193 - mae: 0.1154\n",
      "Epoch 65/120\n",
      "97/97 [==============================] - 0s 1ms/sample - loss: 0.0202 - mae: 0.1160\n",
      "Epoch 66/120\n",
      "97/97 [==============================] - 0s 1ms/sample - loss: 0.0207 - mae: 0.1178\n",
      "Epoch 67/120\n",
      "97/97 [==============================] - 0s 1ms/sample - loss: 0.0205 - mae: 0.1192\n",
      "Epoch 68/120\n",
      "97/97 [==============================] - 0s 1ms/sample - loss: 0.0192 - mae: 0.1126\n",
      "Epoch 69/120\n",
      "97/97 [==============================] - 0s 1ms/sample - loss: 0.0190 - mae: 0.1134\n",
      "Epoch 70/120\n",
      "97/97 [==============================] - 0s 1ms/sample - loss: 0.0208 - mae: 0.1146\n",
      "Epoch 71/120\n",
      "97/97 [==============================] - 0s 1ms/sample - loss: 0.0181 - mae: 0.1067\n",
      "Epoch 72/120\n",
      "97/97 [==============================] - 0s 1ms/sample - loss: 0.0195 - mae: 0.1122\n",
      "Epoch 73/120\n",
      "97/97 [==============================] - 0s 1ms/sample - loss: 0.0184 - mae: 0.1086\n",
      "Epoch 74/120\n",
      "97/97 [==============================] - 0s 1ms/sample - loss: 0.0183 - mae: 0.1088\n",
      "Epoch 75/120\n",
      "97/97 [==============================] - 0s 1ms/sample - loss: 0.0179 - mae: 0.1073\n",
      "Epoch 76/120\n",
      "97/97 [==============================] - 0s 1ms/sample - loss: 0.0183 - mae: 0.1096\n",
      "Epoch 77/120\n",
      "97/97 [==============================] - 0s 1ms/sample - loss: 0.0196 - mae: 0.1091\n",
      "Epoch 78/120\n",
      "97/97 [==============================] - 0s 1ms/sample - loss: 0.0178 - mae: 0.1071\n",
      "Epoch 79/120\n",
      "97/97 [==============================] - 0s 1ms/sample - loss: 0.0172 - mae: 0.1075\n",
      "Epoch 80/120\n",
      "97/97 [==============================] - 0s 1ms/sample - loss: 0.0184 - mae: 0.1115\n",
      "Epoch 81/120\n",
      "97/97 [==============================] - 0s 1ms/sample - loss: 0.0177 - mae: 0.1078\n",
      "Epoch 82/120\n",
      "97/97 [==============================] - 0s 1ms/sample - loss: 0.0160 - mae: 0.1006\n",
      "Epoch 83/120\n",
      "97/97 [==============================] - 0s 1ms/sample - loss: 0.0175 - mae: 0.1042\n",
      "Epoch 84/120\n",
      "97/97 [==============================] - 0s 1ms/sample - loss: 0.0173 - mae: 0.1041\n",
      "Epoch 85/120\n"
     ]
    },
    {
     "name": "stdout",
     "output_type": "stream",
     "text": [
      "97/97 [==============================] - 0s 1ms/sample - loss: 0.0164 - mae: 0.1012\n",
      "Epoch 86/120\n",
      "97/97 [==============================] - 0s 1ms/sample - loss: 0.0180 - mae: 0.1030\n",
      "Epoch 87/120\n",
      "97/97 [==============================] - 0s 1ms/sample - loss: 0.0174 - mae: 0.1028\n",
      "Epoch 88/120\n",
      "97/97 [==============================] - 0s 1ms/sample - loss: 0.0157 - mae: 0.0991\n",
      "Epoch 89/120\n",
      "97/97 [==============================] - 0s 1ms/sample - loss: 0.0162 - mae: 0.1012\n",
      "Epoch 90/120\n",
      "97/97 [==============================] - 0s 1ms/sample - loss: 0.0154 - mae: 0.1004\n",
      "Epoch 91/120\n",
      "97/97 [==============================] - 0s 1ms/sample - loss: 0.0166 - mae: 0.1034\n",
      "Epoch 92/120\n",
      "97/97 [==============================] - 0s 1ms/sample - loss: 0.0171 - mae: 0.1071\n",
      "Epoch 93/120\n",
      "97/97 [==============================] - 0s 1ms/sample - loss: 0.0178 - mae: 0.1075\n",
      "Epoch 94/120\n",
      "97/97 [==============================] - 0s 1ms/sample - loss: 0.0157 - mae: 0.1007\n",
      "Epoch 95/120\n",
      "97/97 [==============================] - 0s 1ms/sample - loss: 0.0165 - mae: 0.1030\n",
      "Epoch 96/120\n",
      "97/97 [==============================] - 0s 1ms/sample - loss: 0.0160 - mae: 0.1009\n",
      "Epoch 97/120\n",
      "97/97 [==============================] - 0s 1ms/sample - loss: 0.0159 - mae: 0.1020\n",
      "Epoch 98/120\n",
      "97/97 [==============================] - 0s 1ms/sample - loss: 0.0147 - mae: 0.0974\n",
      "Epoch 99/120\n",
      "97/97 [==============================] - 0s 1ms/sample - loss: 0.0152 - mae: 0.1009\n",
      "Epoch 100/120\n",
      "97/97 [==============================] - 0s 1ms/sample - loss: 0.0151 - mae: 0.0990\n",
      "Epoch 101/120\n",
      "97/97 [==============================] - 0s 1ms/sample - loss: 0.0157 - mae: 0.1026\n",
      "Epoch 102/120\n",
      "97/97 [==============================] - 0s 1ms/sample - loss: 0.0146 - mae: 0.0965\n",
      "Epoch 103/120\n",
      "97/97 [==============================] - 0s 1ms/sample - loss: 0.0143 - mae: 0.0963\n",
      "Epoch 104/120\n",
      "97/97 [==============================] - 0s 992us/sample - loss: 0.0150 - mae: 0.0977\n",
      "Epoch 105/120\n",
      "97/97 [==============================] - 0s 1ms/sample - loss: 0.0155 - mae: 0.0977\n",
      "Epoch 106/120\n",
      "97/97 [==============================] - 0s 1ms/sample - loss: 0.0145 - mae: 0.0961\n",
      "Epoch 107/120\n",
      "97/97 [==============================] - 0s 1ms/sample - loss: 0.0154 - mae: 0.0978\n",
      "Epoch 108/120\n",
      "97/97 [==============================] - 0s 1ms/sample - loss: 0.0153 - mae: 0.0970\n",
      "Epoch 109/120\n",
      "97/97 [==============================] - 0s 1ms/sample - loss: 0.0153 - mae: 0.0974\n",
      "Epoch 110/120\n",
      "97/97 [==============================] - 0s 1ms/sample - loss: 0.0155 - mae: 0.0967\n",
      "Epoch 111/120\n",
      "97/97 [==============================] - 0s 1ms/sample - loss: 0.0141 - mae: 0.0943\n",
      "Epoch 112/120\n",
      "97/97 [==============================] - 0s 1ms/sample - loss: 0.0146 - mae: 0.0948\n",
      "Epoch 113/120\n",
      "97/97 [==============================] - 0s 1ms/sample - loss: 0.0154 - mae: 0.0970\n",
      "Epoch 114/120\n",
      "97/97 [==============================] - 0s 1ms/sample - loss: 0.0156 - mae: 0.0984\n",
      "Epoch 115/120\n",
      "97/97 [==============================] - 0s 1ms/sample - loss: 0.0145 - mae: 0.0960\n",
      "Epoch 116/120\n",
      "97/97 [==============================] - 0s 1ms/sample - loss: 0.0148 - mae: 0.0977\n",
      "Epoch 117/120\n",
      "97/97 [==============================] - 0s 1ms/sample - loss: 0.0172 - mae: 0.1035\n",
      "Epoch 118/120\n",
      "97/97 [==============================] - 0s 1ms/sample - loss: 0.0167 - mae: 0.1051\n",
      "Epoch 119/120\n",
      "97/97 [==============================] - 0s 1ms/sample - loss: 0.0159 - mae: 0.1014\n",
      "Epoch 120/120\n",
      "97/97 [==============================] - 0s 1ms/sample - loss: 0.0149 - mae: 0.0961\n"
     ]
    }
   ],
   "source": [
    "history=simple_lstm_model.fit(X_train,y_train,epochs=120,verbose=1)"
   ]
  },
  {
   "cell_type": "code",
   "execution_count": 46,
   "metadata": {},
   "outputs": [
    {
     "data": {
      "image/png": "[encoded data removed]",
      "text/plain": [
       "<Figure size 432x288 with 1 Axes>"
      ]
     },
     "metadata": {
      "needs_background": "light"
     },
     "output_type": "display_data"
    }
   ],
   "source": [
    "import matplotlib.pyplot as plt \n",
    "loss_train = history.history['loss']\n",
    "#loss_val = history.history['val_loss']\n",
    "epochs = range(1,121)\n",
    "plt.plot(epochs, loss_train, 'g', label='Training loss')\n",
    "#plt.plot(epochs, loss_val, 'b', label='validation loss')\n",
    "plt.xlabel('Epochs')\n",
    "plt.ylabel('mean_squared_error')\n",
    "plt.legend()\n",
    "plt.show()"
   ]
  },
  {
   "cell_type": "code",
   "execution_count": 47,
   "metadata": {},
   "outputs": [],
   "source": [
    "### Lets Do the prediction and check performance metrics\n",
    "train_predict=simple_lstm_model.predict(X_train)\n",
    "test_predict=simple_lstm_model.predict(X_test)\n"
   ]
  },
  {
   "cell_type": "code",
   "execution_count": 48,
   "metadata": {},
   "outputs": [
    {
     "data": {
      "text/plain": [
       "(30,)"
      ]
     },
     "execution_count": 48,
     "metadata": {},
     "output_type": "execute_result"
    }
   ],
   "source": [
    "##Transformback to original form\n",
    "ytest.shape\n"
   ]
  },
  {
   "cell_type": "code",
   "execution_count": 49,
   "metadata": {},
   "outputs": [],
   "source": [
    "ytest1=np.reshape(ytest, (30, 1))"
   ]
  },
  {
   "cell_type": "code",
   "execution_count": 50,
   "metadata": {},
   "outputs": [
    {
     "data": {
      "text/plain": [
       "array([[0.54545455],\n",
       "       [0.52727273],\n",
       "       [0.65454545],\n",
       "       [0.56363636],\n",
       "       [0.67272727],\n",
       "       [0.50909091],\n",
       "       [0.74545455],\n",
       "       [0.50909091],\n",
       "       [0.36363636],\n",
       "       [0.52727273],\n",
       "       [0.50909091],\n",
       "       [0.47272727],\n",
       "       [0.49090909],\n",
       "       [0.38181818],\n",
       "       [0.47272727],\n",
       "       [0.30909091],\n",
       "       [0.34545455],\n",
       "       [0.34545455],\n",
       "       [0.38181818],\n",
       "       [0.41818182],\n",
       "       [0.23636364],\n",
       "       [0.34545455],\n",
       "       [0.32727273],\n",
       "       [0.52727273],\n",
       "       [0.30909091],\n",
       "       [0.41818182],\n",
       "       [0.41818182],\n",
       "       [0.47272727],\n",
       "       [0.49090909],\n",
       "       [0.38181818]])"
      ]
     },
     "execution_count": 50,
     "metadata": {},
     "output_type": "execute_result"
    }
   ],
   "source": [
    "ytest1"
   ]
  },
  {
   "cell_type": "code",
   "execution_count": 51,
   "metadata": {},
   "outputs": [
    {
     "data": {
      "text/plain": [
       "0.12114193098083416"
      ]
     },
     "execution_count": 51,
     "metadata": {},
     "output_type": "execute_result"
    }
   ],
   "source": [
    "### Calculate RMSE performance metrics\n",
    "import math\n",
    "from sklearn.metrics import mean_squared_error\n",
    "math.sqrt(mean_squared_error(y_train,train_predict))"
   ]
  },
  {
   "cell_type": "code",
   "execution_count": 52,
   "metadata": {},
   "outputs": [],
   "source": [
    "train_predict=scaler.inverse_transform(train_predict)\n",
    "test_predict=scaler.inverse_transform(test_predict)\n",
    "ytest1=scaler.inverse_transform(ytest1)"
   ]
  },
  {
   "cell_type": "code",
   "execution_count": 53,
   "metadata": {},
   "outputs": [
    {
     "data": {
      "text/plain": [
       "5.119351192607028"
      ]
     },
     "execution_count": 53,
     "metadata": {},
     "output_type": "execute_result"
    }
   ],
   "source": [
    "### Test Data RMSE\n",
    "math.sqrt(mean_squared_error(ytest1,test_predict))"
   ]
  },
  {
   "cell_type": "code",
   "execution_count": 54,
   "metadata": {},
   "outputs": [
    {
     "data": {
      "text/plain": [
       "0.33475346993675814"
      ]
     },
     "execution_count": 54,
     "metadata": {},
     "output_type": "execute_result"
    }
   ],
   "source": [
    "from sklearn.metrics import r2_score\n",
    "r2_score(ytest1,test_predict)"
   ]
  },
  {
   "cell_type": "code",
   "execution_count": null,
   "metadata": {},
   "outputs": [],
   "source": []
  },
  {
   "cell_type": "code",
   "execution_count": null,
   "metadata": {},
   "outputs": [],
   "source": []
  },
  {
   "cell_type": "code",
   "execution_count": null,
   "metadata": {},
   "outputs": [],
   "source": []
  },
  {
   "cell_type": "code",
   "execution_count": null,
   "metadata": {},
   "outputs": [],
   "source": []
  },
  {
   "cell_type": "code",
   "execution_count": null,
   "metadata": {},
   "outputs": [],
   "source": []
  },
  {
   "cell_type": "code",
   "execution_count": null,
   "metadata": {},
   "outputs": [],
   "source": []
  },
  {
   "cell_type": "code",
   "execution_count": 55,
   "metadata": {},
   "outputs": [
    {
     "data": {
      "image/png": "[encoded data removed]",
      "text/plain": [
       "<Figure size 432x288 with 1 Axes>"
      ]
     },
     "metadata": {
      "needs_background": "light"
     },
     "output_type": "display_data"
    }
   ],
   "source": [
    "### Plotting \n",
    "# shift train predictions for plotting\n",
    "look_back=4\n",
    "trainPredictPlot = numpy.empty_like(df3)\n",
    "trainPredictPlot[:, :] = np.nan\n",
    "trainPredictPlot[look_back:len(train_predict)+look_back, :] = train_predict\n",
    "# shift test predictions for plotting\n",
    "testPredictPlot = numpy.empty_like(df3)\n",
    "testPredictPlot[:, :] = numpy.nan\n",
    "testPredictPlot[len(train_predict)+(look_back*2)+1:len(df3)-1, :] = test_predict\n",
    "# plot baseline and predictions\n",
    "plt.plot(scaler.inverse_transform(df3))\n",
    "plt.plot(trainPredictPlot)\n",
    "plt.plot(testPredictPlot)\n",
    "plt.show()"
   ]
  },
  {
   "cell_type": "code",
   "execution_count": 56,
   "metadata": {},
   "outputs": [
    {
     "data": {
      "text/plain": [
       "35"
      ]
     },
     "execution_count": 56,
     "metadata": {},
     "output_type": "execute_result"
    }
   ],
   "source": [
    "len(test_data)"
   ]
  },
  {
   "cell_type": "code",
   "execution_count": 57,
   "metadata": {},
   "outputs": [
    {
     "data": {
      "text/plain": [
       "(1, 4)"
      ]
     },
     "execution_count": 57,
     "metadata": {},
     "output_type": "execute_result"
    }
   ],
   "source": [
    "x_input=test_data[31:].reshape(1,-1)\n",
    "x_input.shape"
   ]
  },
  {
   "cell_type": "code",
   "execution_count": 58,
   "metadata": {},
   "outputs": [],
   "source": [
    "\n",
    "\n",
    "temp_input=list(x_input)\n",
    "temp_input=temp_input[0].tolist()\n",
    "\n"
   ]
  },
  {
   "cell_type": "code",
   "execution_count": 59,
   "metadata": {},
   "outputs": [
    {
     "data": {
      "text/plain": [
       "[0.4727272727272727,\n",
       " 0.4909090909090909,\n",
       " 0.3818181818181818,\n",
       " 0.3454545454545454]"
      ]
     },
     "execution_count": 59,
     "metadata": {},
     "output_type": "execute_result"
    }
   ],
   "source": [
    "temp_input"
   ]
  },
  {
   "cell_type": "code",
   "execution_count": 60,
   "metadata": {},
   "outputs": [
    {
     "name": "stdout",
     "output_type": "stream",
     "text": [
      "[0.45547304]\n",
      "5\n",
      "1 year input [0.49090909 0.38181818 0.34545455 0.45547304]\n",
      "1 year output [[0.44459912]]\n",
      "2 year input [0.38181818 0.34545455 0.45547304 0.44459912]\n",
      "2 year output [[0.42931768]]\n",
      "3 year input [0.34545455 0.45547304 0.44459912 0.42931768]\n",
      "3 year output [[0.4413781]]\n",
      "4 year input [0.45547304 0.44459912 0.42931768 0.44137809]\n",
      "4 year output [[0.46525142]]\n",
      "5 year input [0.44459912 0.42931768 0.44137809 0.46525142]\n",
      "5 year output [[0.4652155]]\n",
      "6 year input [0.42931768 0.44137809 0.46525142 0.4652155 ]\n",
      "6 year output [[0.46914288]]\n",
      "7 year input [0.44137809 0.46525142 0.4652155  0.46914288]\n",
      "7 year output [[0.47860742]]\n",
      "8 year input [0.46525142 0.4652155  0.46914288 0.47860742]\n",
      "8 year output [[0.4871281]]\n",
      "9 year input [0.4652155  0.46914288 0.47860742 0.48712811]\n",
      "9 year output [[0.49146512]]\n",
      "10 year input [0.46914288 0.47860742 0.48712811 0.49146512]\n",
      "10 year output [[0.49729732]]\n",
      "11 year input [0.47860742 0.48712811 0.49146512 0.49729732]\n",
      "11 year output [[0.503728]]\n",
      "12 year input [0.48712811 0.49146512 0.49729732 0.50372797]\n",
      "12 year output [[0.50932235]]\n",
      "13 year input [0.49146512 0.49729732 0.50372797 0.50932235]\n",
      "13 year output [[0.51418865]]\n",
      "14 year input [0.49729732 0.50372797 0.50932235 0.51418865]\n",
      "14 year output [[0.51930743]]\n",
      "15 year input [0.50372797 0.50932235 0.51418865 0.51930743]\n",
      "15 year output [[0.5242772]]\n",
      "16 year input [0.50932235 0.51418865 0.51930743 0.52427721]\n",
      "16 year output [[0.52888495]]\n",
      "17 year input [0.51418865 0.51930743 0.52427721 0.52888495]\n",
      "17 year output [[0.5332786]]\n",
      "18 year input [0.51930743 0.52427721 0.52888495 0.53327858]\n",
      "18 year output [[0.53759664]]\n",
      "19 year input [0.52427721 0.52888495 0.53327858 0.53759664]\n",
      "19 year output [[0.54173386]]\n",
      "20 year input [0.52888495 0.53327858 0.53759664 0.54173386]\n",
      "20 year output [[0.5456809]]\n",
      "21 year input [0.53327858 0.53759664 0.54173386 0.54568088]\n",
      "21 year output [[0.54948664]]\n",
      "22 year input [0.53759664 0.54173386 0.54568088 0.54948664]\n",
      "22 year output [[0.55316746]]\n",
      "23 year input [0.54173386 0.54568088 0.54948664 0.55316746]\n",
      "23 year output [[0.55670524]]\n",
      "24 year input [0.54568088 0.54948664 0.55316746 0.55670524]\n",
      "24 year output [[0.5601097]]\n",
      "25 year input [0.54948664 0.55316746 0.55670524 0.56010967]\n",
      "25 year output [[0.56339514]]\n",
      "26 year input [0.55316746 0.55670524 0.56010967 0.56339514]\n",
      "26 year output [[0.5665656]]\n",
      "27 year input [0.55670524 0.56010967 0.56339514 0.56656557]\n",
      "27 year output [[0.5696218]]\n",
      "28 year input [0.56010967 0.56339514 0.56656557 0.5696218 ]\n",
      "28 year output [[0.57257056]]\n",
      "29 year input [0.56339514 0.56656557 0.5696218  0.57257056]\n",
      "29 year output [[0.57541776]]\n",
      "30 year input [0.56656557 0.5696218  0.57257056 0.57541776]\n",
      "30 year output [[0.5781669]]\n",
      "[[0.45547303557395935], [0.44459912180900574], [0.4293176829814911], [0.44137808680534363], [0.4652514159679413], [0.4652155041694641], [0.469142884016037], [0.4786074161529541], [0.4871281087398529], [0.49146512150764465], [0.4972973167896271], [0.5037279725074768], [0.5093223452568054], [0.5141886472702026], [0.5193074345588684], [0.5242772102355957], [0.5288849472999573], [0.5332785844802856], [0.5375966429710388], [0.5417338609695435], [0.5456808805465698], [0.5494866371154785], [0.553167462348938], [0.5567052364349365], [0.5601096749305725], [0.5633951425552368], [0.5665655732154846], [0.5696218013763428], [0.5725705623626709], [0.5754177570343018], [0.5781669020652771]]\n"
     ]
    }
   ],
   "source": [
    "# demonstrate prediction for next 10 days\n",
    "from numpy import array\n",
    "\n",
    "lst_output=[]\n",
    "n_steps=4\n",
    "i=0\n",
    "while(i<31):\n",
    "    \n",
    "    if(len(temp_input)>4):\n",
    "        #print(temp_input)\n",
    "        x_input=np.array(temp_input[1:])\n",
    "        print(\"{} year input {}\".format(i,x_input))\n",
    "        x_input=x_input.reshape(1,-1)\n",
    "        x_input = x_input.reshape((1, n_steps, 1))\n",
    "        #print(x_input)\n",
    "        yhat = simple_lstm_model.predict(x_input, verbose=0)\n",
    "        print(\"{} year output {}\".format(i,yhat))\n",
    "        temp_input.extend(yhat[0].tolist())\n",
    "        temp_input=temp_input[1:]\n",
    "        #print(temp_input)\n",
    "        lst_output.extend(yhat.tolist())\n",
    "        i=i+1\n",
    "    else:\n",
    "        x_input = x_input.reshape((1, n_steps,1))\n",
    "        yhat = simple_lstm_model.predict(x_input, verbose=0)\n",
    "        print(yhat[0])\n",
    "        temp_input.extend(yhat[0].tolist())\n",
    "        print(len(temp_input))\n",
    "        lst_output.extend(yhat.tolist())\n",
    "        i=i+1\n",
    "    \n",
    "\n",
    "print(lst_output)"
   ]
  },
  {
   "cell_type": "code",
   "execution_count": 61,
   "metadata": {},
   "outputs": [],
   "source": [
    "day_new=np.arange(1998,2021)\n",
    "day_pred=np.arange(2020,2051)\n",
    "\n",
    "\n"
   ]
  },
  {
   "cell_type": "code",
   "execution_count": 62,
   "metadata": {},
   "outputs": [
    {
     "data": {
      "text/plain": [
       "137"
      ]
     },
     "execution_count": 62,
     "metadata": {},
     "output_type": "execute_result"
    }
   ],
   "source": [
    "len(df3)"
   ]
  },
  {
   "cell_type": "code",
   "execution_count": 63,
   "metadata": {},
   "outputs": [
    {
     "data": {
      "text/plain": [
       "(137, 1)"
      ]
     },
     "execution_count": 63,
     "metadata": {},
     "output_type": "execute_result"
    }
   ],
   "source": [
    "df3.shape"
   ]
  },
  {
   "cell_type": "code",
   "execution_count": 64,
   "metadata": {},
   "outputs": [
    {
     "data": {
      "text/plain": [
       "[<matplotlib.lines.Line2D at 0x1ca42b42188>]"
      ]
     },
     "execution_count": 64,
     "metadata": {},
     "output_type": "execute_result"
    },
    {
     "data": {
      "image/png": "[encoded data removed]",
      "text/plain": [
       "<Figure size 432x288 with 1 Axes>"
      ]
     },
     "metadata": {
      "needs_background": "light"
     },
     "output_type": "display_data"
    }
   ],
   "source": [
    "plt.plot(day_new,scaler.inverse_transform(df3[114:]))\n",
    "plt.plot(day_pred,scaler.inverse_transform(lst_output))"
   ]
  },
  {
   "cell_type": "code",
   "execution_count": 65,
   "metadata": {},
   "outputs": [],
   "source": [
    "df4=df3.tolist()\n",
    "df4.extend(lst_output)\n",
    "df4=scaler.inverse_transform(df4).tolist()"
   ]
  },
  {
   "cell_type": "code",
   "execution_count": null,
   "metadata": {},
   "outputs": [],
   "source": []
  },
  {
   "cell_type": "code",
   "execution_count": 66,
   "metadata": {},
   "outputs": [
    {
     "data": {
      "text/plain": [
       "[<matplotlib.lines.Line2D at 0x1ca42b88288>]"
      ]
     },
     "execution_count": 66,
     "metadata": {},
     "output_type": "execute_result"
    },
    {
     "data": {
      "image/png": "[encoded data removed]",
      "text/plain": [
       "<Figure size 432x288 with 1 Axes>"
      ]
     },
     "metadata": {
      "needs_background": "light"
     },
     "output_type": "display_data"
    }
   ],
   "source": [
    "day_ne=np.arange(1884,2051)\n",
    "plt.plot(day_ne,df4[1:])"
   ]
  },
  {
   "cell_type": "code",
   "execution_count": null,
   "metadata": {},
   "outputs": [],
   "source": []
  },
  {
   "cell_type": "code",
   "execution_count": null,
   "metadata": {},
   "outputs": [],
   "source": []
  }
 ],
 "metadata": {
  "kernelspec": {
   "display_name": "Python 3",
   "language": "python",
   "name": "python3"
  },
  "language_info": {
   "codemirror_mode": {
    "name": "ipython",
    "version": 3
   },
   "file_extension": ".py",
   "mimetype": "text/x-python",
   "name": "python",
   "nbconvert_exporter": "python",
   "pygments_lexer": "ipython3",
   "version": "3.7.7"
  }
 },
 "nbformat": 4,
 "nbformat_minor": 2
}
